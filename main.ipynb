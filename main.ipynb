{
  "nbformat": 4,
  "nbformat_minor": 0,
  "metadata": {
    "colab": {
      "provenance": [],
      "collapsed_sections": []
    },
    "kernelspec": {
      "name": "python3",
      "display_name": "Python 3"
    },
    "language_info": {
      "name": "python"
    }
  },
  "cells": [
    {
      "cell_type": "markdown",
      "source": [
        "NEURAL NETWORK **PREDICTION**"
      ],
      "metadata": {
        "id": "ZGCuRn1xSRVF"
      }
    },
    {
      "cell_type": "markdown",
      "source": [
        "Importing"
      ],
      "metadata": {
        "id": "8fM2vu_dOtum"
      }
    },
    {
      "cell_type": "code",
      "execution_count": 1,
      "metadata": {
        "id": "w18PzFebIdhr"
      },
      "outputs": [],
      "source": [
        "import math\n",
        "import matplotlib.pyplot as plt\n",
        "import numpy as np\n",
        "from numpy.random import seed\n",
        "seed(1)\n",
        "import pandas as pd\n",
        "import statsmodels.api as sm\n",
        "import statsmodels.formula.api as smf\n",
        "\n",
        "import tensorflow\n",
        "tensorflow.random.set_seed(1)\n",
        "from tensorflow.python.keras.layers import Dense\n",
        "from tensorflow.keras.layers import Dropout\n",
        "from tensorflow.python.keras.models import Sequential\n",
        "from tensorflow.python.keras.wrappers.scikit_learn import KerasRegressor\n",
        "\n",
        "from sklearn.metrics import mean_absolute_error\n",
        "from sklearn.metrics import mean_squared_error\n",
        "from sklearn.model_selection import train_test_split\n",
        "from sklearn.preprocessing import MinMaxScaler"
      ]
    },
    {
      "cell_type": "markdown",
      "source": [],
      "metadata": {
        "id": "Tn0yDPE2SPXr"
      }
    },
    {
      "cell_type": "markdown",
      "source": [
        "Data Preprocessing"
      ],
      "metadata": {
        "id": "39GfczZoPKJT"
      }
    },
    {
      "cell_type": "code",
      "source": [
        "train_df = pd.read_csv(\"/content/H1.csv\")\n",
        "a=train_df.head()\n",
        "b=train_df\n",
        "b\n",
        "b.sort_values(['ArrivalDateYear','ArrivalDateWeekNumber'], ascending=True)"
      ],
      "metadata": {
        "colab": {
          "base_uri": "https://localhost:8080/",
          "height": 706
        },
        "id": "OVDEtDpMI0wD",
        "outputId": "5a19e82b-a52d-43d6-b42b-4df52e2b98b3"
      },
      "execution_count": 8,
      "outputs": [
        {
          "output_type": "execute_result",
          "data": {
            "text/plain": [
              "       IsCanceled  LeadTime  ArrivalDateYear ArrivalDateMonth  \\\n",
              "0               0       342             2015             July   \n",
              "1               0       737             2015             July   \n",
              "2               0         7             2015             July   \n",
              "3               0        13             2015             July   \n",
              "4               0        14             2015             July   \n",
              "...           ...       ...              ...              ...   \n",
              "40055           0       212             2017           August   \n",
              "40056           0       169             2017           August   \n",
              "40057           0       204             2017           August   \n",
              "40058           0       211             2017           August   \n",
              "40059           0       161             2017           August   \n",
              "\n",
              "       ArrivalDateWeekNumber  ArrivalDateDayOfMonth  StaysInWeekendNights  \\\n",
              "0                         27                      1                     0   \n",
              "1                         27                      1                     0   \n",
              "2                         27                      1                     0   \n",
              "3                         27                      1                     0   \n",
              "4                         27                      1                     0   \n",
              "...                      ...                    ...                   ...   \n",
              "40055                     35                     31                     2   \n",
              "40056                     35                     30                     2   \n",
              "40057                     35                     29                     4   \n",
              "40058                     35                     31                     4   \n",
              "40059                     35                     31                     4   \n",
              "\n",
              "       StaysInWeekNights  Adults  Children  ...      DepositType        Agent  \\\n",
              "0                      0       2         0  ...  No Deposit              NULL   \n",
              "1                      0       2         0  ...  No Deposit              NULL   \n",
              "2                      1       1         0  ...  No Deposit              NULL   \n",
              "3                      1       1         0  ...  No Deposit               304   \n",
              "4                      2       2         0  ...  No Deposit               240   \n",
              "...                  ...     ...       ...  ...              ...          ...   \n",
              "40055                  8       2         1  ...  No Deposit               143   \n",
              "40056                  9       2         0  ...  No Deposit               250   \n",
              "40057                 10       2         0  ...  No Deposit               250   \n",
              "40058                 10       2         0  ...  No Deposit                40   \n",
              "40059                 10       2         0  ...  No Deposit                69   \n",
              "\n",
              "           Company DaysInWaitingList     CustomerType     ADR  \\\n",
              "0             NULL                 0        Transient    0.00   \n",
              "1             NULL                 0        Transient    0.00   \n",
              "2             NULL                 0        Transient   75.00   \n",
              "3             NULL                 0        Transient   75.00   \n",
              "4             NULL                 0        Transient   98.00   \n",
              "...            ...               ...              ...     ...   \n",
              "40055         NULL                 0        Transient   89.75   \n",
              "40056         NULL                 0  Transient-Party  202.27   \n",
              "40057         NULL                 0        Transient  153.57   \n",
              "40058         NULL                 0         Contract  112.80   \n",
              "40059         NULL                 0        Transient   99.06   \n",
              "\n",
              "       RequiredCarParkingSpaces  TotalOfSpecialRequests ReservationStatus  \\\n",
              "0                             0                       0         Check-Out   \n",
              "1                             0                       0         Check-Out   \n",
              "2                             0                       0         Check-Out   \n",
              "3                             0                       0         Check-Out   \n",
              "4                             0                       1         Check-Out   \n",
              "...                         ...                     ...               ...   \n",
              "40055                         0                       0         Check-Out   \n",
              "40056                         0                       1         Check-Out   \n",
              "40057                         0                       3         Check-Out   \n",
              "40058                         0                       1         Check-Out   \n",
              "40059                         0                       0         Check-Out   \n",
              "\n",
              "      ReservationStatusDate  \n",
              "0                2015-07-01  \n",
              "1                2015-07-01  \n",
              "2                2015-07-02  \n",
              "3                2015-07-02  \n",
              "4                2015-07-03  \n",
              "...                     ...  \n",
              "40055            2017-09-10  \n",
              "40056            2017-09-10  \n",
              "40057            2017-09-12  \n",
              "40058            2017-09-14  \n",
              "40059            2017-09-14  \n",
              "\n",
              "[40060 rows x 31 columns]"
            ],
            "text/html": [
              "\n",
              "  <div id=\"df-9022c3b6-9a49-4ded-961f-8be41882b48b\">\n",
              "    <div class=\"colab-df-container\">\n",
              "      <div>\n",
              "<style scoped>\n",
              "    .dataframe tbody tr th:only-of-type {\n",
              "        vertical-align: middle;\n",
              "    }\n",
              "\n",
              "    .dataframe tbody tr th {\n",
              "        vertical-align: top;\n",
              "    }\n",
              "\n",
              "    .dataframe thead th {\n",
              "        text-align: right;\n",
              "    }\n",
              "</style>\n",
              "<table border=\"1\" class=\"dataframe\">\n",
              "  <thead>\n",
              "    <tr style=\"text-align: right;\">\n",
              "      <th></th>\n",
              "      <th>IsCanceled</th>\n",
              "      <th>LeadTime</th>\n",
              "      <th>ArrivalDateYear</th>\n",
              "      <th>ArrivalDateMonth</th>\n",
              "      <th>ArrivalDateWeekNumber</th>\n",
              "      <th>ArrivalDateDayOfMonth</th>\n",
              "      <th>StaysInWeekendNights</th>\n",
              "      <th>StaysInWeekNights</th>\n",
              "      <th>Adults</th>\n",
              "      <th>Children</th>\n",
              "      <th>...</th>\n",
              "      <th>DepositType</th>\n",
              "      <th>Agent</th>\n",
              "      <th>Company</th>\n",
              "      <th>DaysInWaitingList</th>\n",
              "      <th>CustomerType</th>\n",
              "      <th>ADR</th>\n",
              "      <th>RequiredCarParkingSpaces</th>\n",
              "      <th>TotalOfSpecialRequests</th>\n",
              "      <th>ReservationStatus</th>\n",
              "      <th>ReservationStatusDate</th>\n",
              "    </tr>\n",
              "  </thead>\n",
              "  <tbody>\n",
              "    <tr>\n",
              "      <th>0</th>\n",
              "      <td>0</td>\n",
              "      <td>342</td>\n",
              "      <td>2015</td>\n",
              "      <td>July</td>\n",
              "      <td>27</td>\n",
              "      <td>1</td>\n",
              "      <td>0</td>\n",
              "      <td>0</td>\n",
              "      <td>2</td>\n",
              "      <td>0</td>\n",
              "      <td>...</td>\n",
              "      <td>No Deposit</td>\n",
              "      <td>NULL</td>\n",
              "      <td>NULL</td>\n",
              "      <td>0</td>\n",
              "      <td>Transient</td>\n",
              "      <td>0.00</td>\n",
              "      <td>0</td>\n",
              "      <td>0</td>\n",
              "      <td>Check-Out</td>\n",
              "      <td>2015-07-01</td>\n",
              "    </tr>\n",
              "    <tr>\n",
              "      <th>1</th>\n",
              "      <td>0</td>\n",
              "      <td>737</td>\n",
              "      <td>2015</td>\n",
              "      <td>July</td>\n",
              "      <td>27</td>\n",
              "      <td>1</td>\n",
              "      <td>0</td>\n",
              "      <td>0</td>\n",
              "      <td>2</td>\n",
              "      <td>0</td>\n",
              "      <td>...</td>\n",
              "      <td>No Deposit</td>\n",
              "      <td>NULL</td>\n",
              "      <td>NULL</td>\n",
              "      <td>0</td>\n",
              "      <td>Transient</td>\n",
              "      <td>0.00</td>\n",
              "      <td>0</td>\n",
              "      <td>0</td>\n",
              "      <td>Check-Out</td>\n",
              "      <td>2015-07-01</td>\n",
              "    </tr>\n",
              "    <tr>\n",
              "      <th>2</th>\n",
              "      <td>0</td>\n",
              "      <td>7</td>\n",
              "      <td>2015</td>\n",
              "      <td>July</td>\n",
              "      <td>27</td>\n",
              "      <td>1</td>\n",
              "      <td>0</td>\n",
              "      <td>1</td>\n",
              "      <td>1</td>\n",
              "      <td>0</td>\n",
              "      <td>...</td>\n",
              "      <td>No Deposit</td>\n",
              "      <td>NULL</td>\n",
              "      <td>NULL</td>\n",
              "      <td>0</td>\n",
              "      <td>Transient</td>\n",
              "      <td>75.00</td>\n",
              "      <td>0</td>\n",
              "      <td>0</td>\n",
              "      <td>Check-Out</td>\n",
              "      <td>2015-07-02</td>\n",
              "    </tr>\n",
              "    <tr>\n",
              "      <th>3</th>\n",
              "      <td>0</td>\n",
              "      <td>13</td>\n",
              "      <td>2015</td>\n",
              "      <td>July</td>\n",
              "      <td>27</td>\n",
              "      <td>1</td>\n",
              "      <td>0</td>\n",
              "      <td>1</td>\n",
              "      <td>1</td>\n",
              "      <td>0</td>\n",
              "      <td>...</td>\n",
              "      <td>No Deposit</td>\n",
              "      <td>304</td>\n",
              "      <td>NULL</td>\n",
              "      <td>0</td>\n",
              "      <td>Transient</td>\n",
              "      <td>75.00</td>\n",
              "      <td>0</td>\n",
              "      <td>0</td>\n",
              "      <td>Check-Out</td>\n",
              "      <td>2015-07-02</td>\n",
              "    </tr>\n",
              "    <tr>\n",
              "      <th>4</th>\n",
              "      <td>0</td>\n",
              "      <td>14</td>\n",
              "      <td>2015</td>\n",
              "      <td>July</td>\n",
              "      <td>27</td>\n",
              "      <td>1</td>\n",
              "      <td>0</td>\n",
              "      <td>2</td>\n",
              "      <td>2</td>\n",
              "      <td>0</td>\n",
              "      <td>...</td>\n",
              "      <td>No Deposit</td>\n",
              "      <td>240</td>\n",
              "      <td>NULL</td>\n",
              "      <td>0</td>\n",
              "      <td>Transient</td>\n",
              "      <td>98.00</td>\n",
              "      <td>0</td>\n",
              "      <td>1</td>\n",
              "      <td>Check-Out</td>\n",
              "      <td>2015-07-03</td>\n",
              "    </tr>\n",
              "    <tr>\n",
              "      <th>...</th>\n",
              "      <td>...</td>\n",
              "      <td>...</td>\n",
              "      <td>...</td>\n",
              "      <td>...</td>\n",
              "      <td>...</td>\n",
              "      <td>...</td>\n",
              "      <td>...</td>\n",
              "      <td>...</td>\n",
              "      <td>...</td>\n",
              "      <td>...</td>\n",
              "      <td>...</td>\n",
              "      <td>...</td>\n",
              "      <td>...</td>\n",
              "      <td>...</td>\n",
              "      <td>...</td>\n",
              "      <td>...</td>\n",
              "      <td>...</td>\n",
              "      <td>...</td>\n",
              "      <td>...</td>\n",
              "      <td>...</td>\n",
              "      <td>...</td>\n",
              "    </tr>\n",
              "    <tr>\n",
              "      <th>40055</th>\n",
              "      <td>0</td>\n",
              "      <td>212</td>\n",
              "      <td>2017</td>\n",
              "      <td>August</td>\n",
              "      <td>35</td>\n",
              "      <td>31</td>\n",
              "      <td>2</td>\n",
              "      <td>8</td>\n",
              "      <td>2</td>\n",
              "      <td>1</td>\n",
              "      <td>...</td>\n",
              "      <td>No Deposit</td>\n",
              "      <td>143</td>\n",
              "      <td>NULL</td>\n",
              "      <td>0</td>\n",
              "      <td>Transient</td>\n",
              "      <td>89.75</td>\n",
              "      <td>0</td>\n",
              "      <td>0</td>\n",
              "      <td>Check-Out</td>\n",
              "      <td>2017-09-10</td>\n",
              "    </tr>\n",
              "    <tr>\n",
              "      <th>40056</th>\n",
              "      <td>0</td>\n",
              "      <td>169</td>\n",
              "      <td>2017</td>\n",
              "      <td>August</td>\n",
              "      <td>35</td>\n",
              "      <td>30</td>\n",
              "      <td>2</td>\n",
              "      <td>9</td>\n",
              "      <td>2</td>\n",
              "      <td>0</td>\n",
              "      <td>...</td>\n",
              "      <td>No Deposit</td>\n",
              "      <td>250</td>\n",
              "      <td>NULL</td>\n",
              "      <td>0</td>\n",
              "      <td>Transient-Party</td>\n",
              "      <td>202.27</td>\n",
              "      <td>0</td>\n",
              "      <td>1</td>\n",
              "      <td>Check-Out</td>\n",
              "      <td>2017-09-10</td>\n",
              "    </tr>\n",
              "    <tr>\n",
              "      <th>40057</th>\n",
              "      <td>0</td>\n",
              "      <td>204</td>\n",
              "      <td>2017</td>\n",
              "      <td>August</td>\n",
              "      <td>35</td>\n",
              "      <td>29</td>\n",
              "      <td>4</td>\n",
              "      <td>10</td>\n",
              "      <td>2</td>\n",
              "      <td>0</td>\n",
              "      <td>...</td>\n",
              "      <td>No Deposit</td>\n",
              "      <td>250</td>\n",
              "      <td>NULL</td>\n",
              "      <td>0</td>\n",
              "      <td>Transient</td>\n",
              "      <td>153.57</td>\n",
              "      <td>0</td>\n",
              "      <td>3</td>\n",
              "      <td>Check-Out</td>\n",
              "      <td>2017-09-12</td>\n",
              "    </tr>\n",
              "    <tr>\n",
              "      <th>40058</th>\n",
              "      <td>0</td>\n",
              "      <td>211</td>\n",
              "      <td>2017</td>\n",
              "      <td>August</td>\n",
              "      <td>35</td>\n",
              "      <td>31</td>\n",
              "      <td>4</td>\n",
              "      <td>10</td>\n",
              "      <td>2</td>\n",
              "      <td>0</td>\n",
              "      <td>...</td>\n",
              "      <td>No Deposit</td>\n",
              "      <td>40</td>\n",
              "      <td>NULL</td>\n",
              "      <td>0</td>\n",
              "      <td>Contract</td>\n",
              "      <td>112.80</td>\n",
              "      <td>0</td>\n",
              "      <td>1</td>\n",
              "      <td>Check-Out</td>\n",
              "      <td>2017-09-14</td>\n",
              "    </tr>\n",
              "    <tr>\n",
              "      <th>40059</th>\n",
              "      <td>0</td>\n",
              "      <td>161</td>\n",
              "      <td>2017</td>\n",
              "      <td>August</td>\n",
              "      <td>35</td>\n",
              "      <td>31</td>\n",
              "      <td>4</td>\n",
              "      <td>10</td>\n",
              "      <td>2</td>\n",
              "      <td>0</td>\n",
              "      <td>...</td>\n",
              "      <td>No Deposit</td>\n",
              "      <td>69</td>\n",
              "      <td>NULL</td>\n",
              "      <td>0</td>\n",
              "      <td>Transient</td>\n",
              "      <td>99.06</td>\n",
              "      <td>0</td>\n",
              "      <td>0</td>\n",
              "      <td>Check-Out</td>\n",
              "      <td>2017-09-14</td>\n",
              "    </tr>\n",
              "  </tbody>\n",
              "</table>\n",
              "<p>40060 rows × 31 columns</p>\n",
              "</div>\n",
              "      <button class=\"colab-df-convert\" onclick=\"convertToInteractive('df-9022c3b6-9a49-4ded-961f-8be41882b48b')\"\n",
              "              title=\"Convert this dataframe to an interactive table.\"\n",
              "              style=\"display:none;\">\n",
              "        \n",
              "  <svg xmlns=\"http://www.w3.org/2000/svg\" height=\"24px\"viewBox=\"0 0 24 24\"\n",
              "       width=\"24px\">\n",
              "    <path d=\"M0 0h24v24H0V0z\" fill=\"none\"/>\n",
              "    <path d=\"M18.56 5.44l.94 2.06.94-2.06 2.06-.94-2.06-.94-.94-2.06-.94 2.06-2.06.94zm-11 1L8.5 8.5l.94-2.06 2.06-.94-2.06-.94L8.5 2.5l-.94 2.06-2.06.94zm10 10l.94 2.06.94-2.06 2.06-.94-2.06-.94-.94-2.06-.94 2.06-2.06.94z\"/><path d=\"M17.41 7.96l-1.37-1.37c-.4-.4-.92-.59-1.43-.59-.52 0-1.04.2-1.43.59L10.3 9.45l-7.72 7.72c-.78.78-.78 2.05 0 2.83L4 21.41c.39.39.9.59 1.41.59.51 0 1.02-.2 1.41-.59l7.78-7.78 2.81-2.81c.8-.78.8-2.07 0-2.86zM5.41 20L4 18.59l7.72-7.72 1.47 1.35L5.41 20z\"/>\n",
              "  </svg>\n",
              "      </button>\n",
              "      \n",
              "  <style>\n",
              "    .colab-df-container {\n",
              "      display:flex;\n",
              "      flex-wrap:wrap;\n",
              "      gap: 12px;\n",
              "    }\n",
              "\n",
              "    .colab-df-convert {\n",
              "      background-color: #E8F0FE;\n",
              "      border: none;\n",
              "      border-radius: 50%;\n",
              "      cursor: pointer;\n",
              "      display: none;\n",
              "      fill: #1967D2;\n",
              "      height: 32px;\n",
              "      padding: 0 0 0 0;\n",
              "      width: 32px;\n",
              "    }\n",
              "\n",
              "    .colab-df-convert:hover {\n",
              "      background-color: #E2EBFA;\n",
              "      box-shadow: 0px 1px 2px rgba(60, 64, 67, 0.3), 0px 1px 3px 1px rgba(60, 64, 67, 0.15);\n",
              "      fill: #174EA6;\n",
              "    }\n",
              "\n",
              "    [theme=dark] .colab-df-convert {\n",
              "      background-color: #3B4455;\n",
              "      fill: #D2E3FC;\n",
              "    }\n",
              "\n",
              "    [theme=dark] .colab-df-convert:hover {\n",
              "      background-color: #434B5C;\n",
              "      box-shadow: 0px 1px 3px 1px rgba(0, 0, 0, 0.15);\n",
              "      filter: drop-shadow(0px 1px 2px rgba(0, 0, 0, 0.3));\n",
              "      fill: #FFFFFF;\n",
              "    }\n",
              "  </style>\n",
              "\n",
              "      <script>\n",
              "        const buttonEl =\n",
              "          document.querySelector('#df-9022c3b6-9a49-4ded-961f-8be41882b48b button.colab-df-convert');\n",
              "        buttonEl.style.display =\n",
              "          google.colab.kernel.accessAllowed ? 'block' : 'none';\n",
              "\n",
              "        async function convertToInteractive(key) {\n",
              "          const element = document.querySelector('#df-9022c3b6-9a49-4ded-961f-8be41882b48b');\n",
              "          const dataTable =\n",
              "            await google.colab.kernel.invokeFunction('convertToInteractive',\n",
              "                                                     [key], {});\n",
              "          if (!dataTable) return;\n",
              "\n",
              "          const docLinkHtml = 'Like what you see? Visit the ' +\n",
              "            '<a target=\"_blank\" href=https://colab.research.google.com/notebooks/data_table.ipynb>data table notebook</a>'\n",
              "            + ' to learn more about interactive tables.';\n",
              "          element.innerHTML = '';\n",
              "          dataTable['output_type'] = 'display_data';\n",
              "          await google.colab.output.renderOutput(dataTable, element);\n",
              "          const docLink = document.createElement('div');\n",
              "          docLink.innerHTML = docLinkHtml;\n",
              "          element.appendChild(docLink);\n",
              "        }\n",
              "      </script>\n",
              "    </div>\n",
              "  </div>\n",
              "  "
            ]
          },
          "metadata": {},
          "execution_count": 8
        },
        {
          "output_type": "stream",
          "name": "stdout",
          "text": [
            "Warning: Total number of columns (31) exceeds max_columns (20) limiting to first (20) columns.\n",
            "Warning: total number of rows (40060) exceeds max_rows (20000). Limiting to first (20000) rows.\n"
          ]
        }
      ]
    },
    {
      "cell_type": "markdown",
      "source": [
        "Numerical variables"
      ],
      "metadata": {
        "id": "8MxmWYbVP1kW"
      }
    },
    {
      "cell_type": "code",
      "source": [
        "leadtime = train_df['LeadTime']\n",
        "arrivaldateyear = train_df['ArrivalDateYear']\n",
        "arrivaldateweekno = train_df['ArrivalDateWeekNumber']\n",
        "arrivaldatedayofmonth = train_df['ArrivalDateDayOfMonth']\n",
        "staysweekendnights = train_df['StaysInWeekendNights']\n",
        "staysweeknights = train_df['StaysInWeekNights']\n",
        "adults = train_df['Adults']\n",
        "children = train_df['Children']\n",
        "babies = train_df['Babies']\n",
        "isrepeatedguest = train_df['IsRepeatedGuest'] \n",
        "previouscancellations = train_df['PreviousCancellations']\n",
        "previousbookingsnotcanceled = train_df['PreviousBookingsNotCanceled']\n",
        "bookingchanges = train_df['BookingChanges']\n",
        "agent = train_df['Agent']\n",
        "company = train_df['Company']\n",
        "dayswaitinglist = train_df['DaysInWaitingList']\n",
        "adr = train_df['ADR']\n",
        "rcps = train_df['RequiredCarParkingSpaces']\n",
        "totalsqr = train_df['TotalOfSpecialRequests']"
      ],
      "metadata": {
        "id": "2040Af4kKHGk"
      },
      "execution_count": 10,
      "outputs": []
    },
    {
      "cell_type": "code",
      "source": [
        "y1 = np.array(adr)"
      ],
      "metadata": {
        "id": "U2VihQmFKLAf"
      },
      "execution_count": 12,
      "outputs": []
    },
    {
      "cell_type": "markdown",
      "source": [
        "Categorical Variables"
      ],
      "metadata": {
        "id": "b0aGKAZfP72X"
      }
    },
    {
      "cell_type": "code",
      "source": [
        "IsCanceled = train_df['IsCanceled']\n",
        "arrivaldatemonth = train_df.ArrivalDateMonth.astype(\"category\").cat.codes\n",
        "arrivaldatemonthcat=pd.Series(arrivaldatemonth)\n",
        "mealcat=train_df.Meal.astype(\"category\").cat.codes\n",
        "mealcat=pd.Series(mealcat)\n",
        "countrycat=train_df.Country.astype(\"category\").cat.codes\n",
        "countrycat=pd.Series(countrycat)\n",
        "marketsegmentcat=train_df.MarketSegment.astype(\"category\").cat.codes\n",
        "marketsegmentcat=pd.Series(marketsegmentcat)\n",
        "distributionchannelcat=train_df.DistributionChannel.astype(\"category\").cat.codes\n",
        "distributionchannelcat=pd.Series(distributionchannelcat)\n",
        "reservedroomtypecat=train_df.ReservedRoomType.astype(\"category\").cat.codes\n",
        "reservedroomtypecat=pd.Series(reservedroomtypecat)\n",
        "assignedroomtypecat=train_df.AssignedRoomType.astype(\"category\").cat.codes\n",
        "assignedroomtypecat=pd.Series(assignedroomtypecat)\n",
        "deposittypecat=train_df.DepositType.astype(\"category\").cat.codes\n",
        "deposittypecat=pd.Series(deposittypecat)\n",
        "customertypecat=train_df.CustomerType.astype(\"category\").cat.codes\n",
        "customertypecat=pd.Series(customertypecat)\n",
        "reservationstatuscat=train_df.ReservationStatus.astype(\"category\").cat.codes\n",
        "reservationstatuscat=pd.Series(reservationstatuscat)"
      ],
      "metadata": {
        "id": "63FgVXhUKPd3"
      },
      "execution_count": 14,
      "outputs": []
    },
    {
      "cell_type": "code",
      "source": [
        "x1 = np.column_stack((IsCanceled,countrycat,marketsegmentcat,deposittypecat,customertypecat,rcps,arrivaldateweekno))\n",
        "x1 = sm.add_constant(x1, prepend=True)"
      ],
      "metadata": {
        "id": "73yIX6bUKQ7D"
      },
      "execution_count": 16,
      "outputs": []
    },
    {
      "cell_type": "markdown",
      "source": [
        "Training and Validation Data Partition"
      ],
      "metadata": {
        "id": "oKlRZWpnQDWs"
      }
    },
    {
      "cell_type": "code",
      "source": [
        "X_train, X_val, y_train, y_val = train_test_split(x1, y1)"
      ],
      "metadata": {
        "id": "fopvsuuAKTLR"
      },
      "execution_count": 18,
      "outputs": []
    },
    {
      "cell_type": "code",
      "source": [
        "#Variables\n",
        "y_train=np.reshape(y_train, (-1,1))\n",
        "y_val=np.reshape(y_val, (-1,1))\n",
        "\n",
        "scaler_x = MinMaxScaler()\n",
        "scaler_y = MinMaxScaler()\n",
        "\n",
        "print(scaler_x.fit(X_train))\n",
        "xtrain_scale=scaler_x.transform(X_train)\n",
        "print(scaler_x.fit(X_val))\n",
        "xval_scale=scaler_x.transform(X_val)\n",
        "\n",
        "print(scaler_y.fit(y_train))\n",
        "ytrain_scale=scaler_y.transform(y_train)\n",
        "print(scaler_y.fit(y_val))\n",
        "yval_scale=scaler_y.transform(y_val)"
      ],
      "metadata": {
        "colab": {
          "base_uri": "https://localhost:8080/"
        },
        "id": "u382XFj_KVn7",
        "outputId": "6efda290-6f0a-4c6a-c484-7609b908d09d"
      },
      "execution_count": 20,
      "outputs": [
        {
          "output_type": "stream",
          "name": "stdout",
          "text": [
            "MinMaxScaler()\n",
            "MinMaxScaler()\n",
            "MinMaxScaler()\n",
            "MinMaxScaler()\n"
          ]
        }
      ]
    },
    {
      "cell_type": "code",
      "source": [
        "ytrain_scale"
      ],
      "metadata": {
        "colab": {
          "base_uri": "https://localhost:8080/"
        },
        "id": "eByAWyRGKY8F",
        "outputId": "a4ebb562-5023-4678-8540-a6b507cb8ef0"
      },
      "execution_count": 22,
      "outputs": [
        {
          "output_type": "execute_result",
          "data": {
            "text/plain": [
              "array([[0.35845095],\n",
              "       [0.21361639],\n",
              "       [0.14926708],\n",
              "       ...,\n",
              "       [0.12516039],\n",
              "       [0.09026401],\n",
              "       [0.15820988]])"
            ]
          },
          "metadata": {},
          "execution_count": 22
        }
      ]
    },
    {
      "cell_type": "code",
      "source": [
        "yval_scale"
      ],
      "metadata": {
        "colab": {
          "base_uri": "https://localhost:8080/"
        },
        "id": "JSJNWJEdKbUa",
        "outputId": "6b8640d1-f545-4e96-ae6d-502fb27d0c71"
      },
      "execution_count": 24,
      "outputs": [
        {
          "output_type": "execute_result",
          "data": {
            "text/plain": [
              "array([[0.19402985],\n",
              "       [0.08034826],\n",
              "       [0.12935323],\n",
              "       ...,\n",
              "       [0.44776119],\n",
              "       [0.11940299],\n",
              "       [0.75870647]])"
            ]
          },
          "metadata": {},
          "execution_count": 24
        }
      ]
    },
    {
      "cell_type": "code",
      "source": [
        "xtrain_scale"
      ],
      "metadata": {
        "colab": {
          "base_uri": "https://localhost:8080/"
        },
        "id": "FSdAoE_qKgBE",
        "outputId": "cf3c169d-33ce-465f-9dcf-2e5c65060ffb"
      },
      "execution_count": 26,
      "outputs": [
        {
          "output_type": "execute_result",
          "data": {
            "text/plain": [
              "array([[0.        , 0.        , 0.768     , ..., 0.66666667, 0.        ,\n",
              "        0.5       ],\n",
              "       [0.        , 0.        , 0.        , ..., 0.66666667, 0.        ,\n",
              "        0.73076923],\n",
              "       [0.        , 0.        , 0.368     , ..., 0.        , 0.        ,\n",
              "        0.44230769],\n",
              "       ...,\n",
              "       [0.        , 0.        , 0.328     , ..., 0.66666667, 0.        ,\n",
              "        0.11538462],\n",
              "       [0.        , 1.        , 0.368     , ..., 0.66666667, 0.        ,\n",
              "        0.71153846],\n",
              "       [0.        , 0.        , 0.768     , ..., 0.66666667, 0.125     ,\n",
              "        0.11538462]])"
            ]
          },
          "metadata": {},
          "execution_count": 26
        }
      ]
    },
    {
      "cell_type": "code",
      "source": [
        "xval_scale"
      ],
      "metadata": {
        "colab": {
          "base_uri": "https://localhost:8080/"
        },
        "id": "8sj5Y_ERKiMw",
        "outputId": "41568140-7da1-4c81-fe19-aef55206368e"
      },
      "execution_count": 28,
      "outputs": [
        {
          "output_type": "execute_result",
          "data": {
            "text/plain": [
              "array([[0.        , 1.        , 0.36585366, ..., 0.66666667, 0.        ,\n",
              "        0.23076923],\n",
              "       [0.        , 1.        , 0.7804878 , ..., 0.66666667, 0.        ,\n",
              "        0.01923077],\n",
              "       [0.        , 0.        , 0.17886179, ..., 1.        , 0.        ,\n",
              "        0.07692308],\n",
              "       ...,\n",
              "       [0.        , 1.        , 0.37398374, ..., 0.66666667, 0.        ,\n",
              "        0.48076923],\n",
              "       [0.        , 1.        , 0.7804878 , ..., 0.66666667, 0.        ,\n",
              "        0.17307692],\n",
              "       [0.        , 1.        , 0.60162602, ..., 0.66666667, 0.        ,\n",
              "        0.55769231]])"
            ]
          },
          "metadata": {},
          "execution_count": 28
        }
      ]
    },
    {
      "cell_type": "markdown",
      "source": [
        "Neural Network Configuration"
      ],
      "metadata": {
        "id": "7azf5VwyQMAt"
      }
    },
    {
      "cell_type": "code",
      "source": [
        "model = Sequential()\n",
        "model.add(Dense(8, input_dim=8, kernel_initializer='normal', activation='relu'))\n",
        "model.add(Dense(2670, activation='relu'))\n",
        "model.add(Dense(1, activation='linear'))\n",
        "model.summary()"
      ],
      "metadata": {
        "colab": {
          "base_uri": "https://localhost:8080/"
        },
        "id": "0qDDjRQNKk_P",
        "outputId": "4a17eed2-d8fc-4898-c989-23a8d2e16c2c"
      },
      "execution_count": 30,
      "outputs": [
        {
          "output_type": "stream",
          "name": "stdout",
          "text": [
            "Model: \"sequential_1\"\n",
            "_________________________________________________________________\n",
            "Layer (type)                 Output Shape              Param #   \n",
            "=================================================================\n",
            "dense_3 (Dense)              (None, 8)                 72        \n",
            "_________________________________________________________________\n",
            "dense_4 (Dense)              (None, 2670)              24030     \n",
            "_________________________________________________________________\n",
            "dense_5 (Dense)              (None, 1)                 2671      \n",
            "=================================================================\n",
            "Total params: 26,773\n",
            "Trainable params: 26,773\n",
            "Non-trainable params: 0\n",
            "_________________________________________________________________\n"
          ]
        }
      ]
    },
    {
      "cell_type": "code",
      "source": [
        "model.compile(loss='mse', optimizer='adam', metrics=['mse','mae'])\n",
        "history=model.fit(xtrain_scale, ytrain_scale, epochs=30, batch_size=150, verbose=1, validation_split=0.2)\n",
        "predictions = model.predict(xval_scale)"
      ],
      "metadata": {
        "colab": {
          "base_uri": "https://localhost:8080/"
        },
        "id": "PJh40Y5TKnqr",
        "outputId": "1f412a30-074a-4ffe-a65c-c72f62a6fead"
      },
      "execution_count": 34,
      "outputs": [
        {
          "output_type": "stream",
          "name": "stdout",
          "text": [
            "Epoch 1/30\n",
            "161/161 [==============================] - 4s 16ms/step - loss: 0.0046 - mse: 0.0046 - mae: 0.0479 - val_loss: 0.0047 - val_mse: 0.0047 - val_mae: 0.0470\n",
            "Epoch 2/30\n",
            "161/161 [==============================] - 2s 14ms/step - loss: 0.0047 - mse: 0.0047 - mae: 0.0480 - val_loss: 0.0047 - val_mse: 0.0047 - val_mae: 0.0468\n",
            "Epoch 3/30\n",
            "161/161 [==============================] - 2s 13ms/step - loss: 0.0046 - mse: 0.0046 - mae: 0.0477 - val_loss: 0.0054 - val_mse: 0.0054 - val_mae: 0.0490\n",
            "Epoch 4/30\n",
            "161/161 [==============================] - 1s 7ms/step - loss: 0.0046 - mse: 0.0046 - mae: 0.0480 - val_loss: 0.0048 - val_mse: 0.0048 - val_mae: 0.0473\n",
            "Epoch 5/30\n",
            "161/161 [==============================] - 1s 8ms/step - loss: 0.0046 - mse: 0.0046 - mae: 0.0479 - val_loss: 0.0048 - val_mse: 0.0048 - val_mae: 0.0473\n",
            "Epoch 6/30\n",
            "161/161 [==============================] - 1s 7ms/step - loss: 0.0046 - mse: 0.0046 - mae: 0.0477 - val_loss: 0.0047 - val_mse: 0.0047 - val_mae: 0.0473\n",
            "Epoch 7/30\n",
            "161/161 [==============================] - 1s 7ms/step - loss: 0.0046 - mse: 0.0046 - mae: 0.0476 - val_loss: 0.0047 - val_mse: 0.0047 - val_mae: 0.0478\n",
            "Epoch 8/30\n",
            "161/161 [==============================] - 1s 8ms/step - loss: 0.0046 - mse: 0.0046 - mae: 0.0479 - val_loss: 0.0048 - val_mse: 0.0048 - val_mae: 0.0486\n",
            "Epoch 9/30\n",
            "161/161 [==============================] - 2s 10ms/step - loss: 0.0047 - mse: 0.0047 - mae: 0.0479 - val_loss: 0.0050 - val_mse: 0.0050 - val_mae: 0.0502\n",
            "Epoch 10/30\n",
            "161/161 [==============================] - 1s 9ms/step - loss: 0.0047 - mse: 0.0047 - mae: 0.0483 - val_loss: 0.0051 - val_mse: 0.0051 - val_mae: 0.0475\n",
            "Epoch 11/30\n",
            "161/161 [==============================] - 1s 8ms/step - loss: 0.0046 - mse: 0.0046 - mae: 0.0477 - val_loss: 0.0049 - val_mse: 0.0049 - val_mae: 0.0493\n",
            "Epoch 12/30\n",
            "161/161 [==============================] - 1s 8ms/step - loss: 0.0046 - mse: 0.0046 - mae: 0.0477 - val_loss: 0.0049 - val_mse: 0.0049 - val_mae: 0.0477\n",
            "Epoch 13/30\n",
            "161/161 [==============================] - 1s 7ms/step - loss: 0.0046 - mse: 0.0046 - mae: 0.0478 - val_loss: 0.0048 - val_mse: 0.0048 - val_mae: 0.0478\n",
            "Epoch 14/30\n",
            "161/161 [==============================] - 1s 7ms/step - loss: 0.0047 - mse: 0.0047 - mae: 0.0480 - val_loss: 0.0047 - val_mse: 0.0047 - val_mae: 0.0468\n",
            "Epoch 15/30\n",
            "161/161 [==============================] - 1s 8ms/step - loss: 0.0047 - mse: 0.0047 - mae: 0.0480 - val_loss: 0.0049 - val_mse: 0.0049 - val_mae: 0.0470\n",
            "Epoch 16/30\n",
            "161/161 [==============================] - 1s 7ms/step - loss: 0.0046 - mse: 0.0046 - mae: 0.0477 - val_loss: 0.0048 - val_mse: 0.0048 - val_mae: 0.0477\n",
            "Epoch 17/30\n",
            "161/161 [==============================] - 1s 6ms/step - loss: 0.0046 - mse: 0.0046 - mae: 0.0477 - val_loss: 0.0047 - val_mse: 0.0047 - val_mae: 0.0491\n",
            "Epoch 18/30\n",
            "161/161 [==============================] - 1s 7ms/step - loss: 0.0046 - mse: 0.0046 - mae: 0.0476 - val_loss: 0.0047 - val_mse: 0.0047 - val_mae: 0.0467\n",
            "Epoch 19/30\n",
            "161/161 [==============================] - 1s 7ms/step - loss: 0.0046 - mse: 0.0046 - mae: 0.0476 - val_loss: 0.0047 - val_mse: 0.0047 - val_mae: 0.0478\n",
            "Epoch 20/30\n",
            "161/161 [==============================] - 1s 8ms/step - loss: 0.0047 - mse: 0.0047 - mae: 0.0480 - val_loss: 0.0047 - val_mse: 0.0047 - val_mae: 0.0489\n",
            "Epoch 21/30\n",
            "161/161 [==============================] - 1s 8ms/step - loss: 0.0046 - mse: 0.0046 - mae: 0.0477 - val_loss: 0.0051 - val_mse: 0.0051 - val_mae: 0.0510\n",
            "Epoch 22/30\n",
            "161/161 [==============================] - 1s 8ms/step - loss: 0.0046 - mse: 0.0046 - mae: 0.0477 - val_loss: 0.0047 - val_mse: 0.0047 - val_mae: 0.0475\n",
            "Epoch 23/30\n",
            "161/161 [==============================] - 1s 7ms/step - loss: 0.0046 - mse: 0.0046 - mae: 0.0478 - val_loss: 0.0047 - val_mse: 0.0047 - val_mae: 0.0469\n",
            "Epoch 24/30\n",
            "161/161 [==============================] - 1s 8ms/step - loss: 0.0046 - mse: 0.0046 - mae: 0.0477 - val_loss: 0.0046 - val_mse: 0.0046 - val_mae: 0.0470\n",
            "Epoch 25/30\n",
            "161/161 [==============================] - 1s 8ms/step - loss: 0.0046 - mse: 0.0046 - mae: 0.0477 - val_loss: 0.0047 - val_mse: 0.0047 - val_mae: 0.0480\n",
            "Epoch 26/30\n",
            "161/161 [==============================] - 1s 8ms/step - loss: 0.0046 - mse: 0.0046 - mae: 0.0476 - val_loss: 0.0047 - val_mse: 0.0047 - val_mae: 0.0485\n",
            "Epoch 27/30\n",
            "161/161 [==============================] - 1s 7ms/step - loss: 0.0046 - mse: 0.0046 - mae: 0.0475 - val_loss: 0.0047 - val_mse: 0.0047 - val_mae: 0.0490\n",
            "Epoch 28/30\n",
            "161/161 [==============================] - 1s 7ms/step - loss: 0.0046 - mse: 0.0046 - mae: 0.0478 - val_loss: 0.0047 - val_mse: 0.0047 - val_mae: 0.0484\n",
            "Epoch 29/30\n",
            "161/161 [==============================] - 1s 8ms/step - loss: 0.0046 - mse: 0.0046 - mae: 0.0476 - val_loss: 0.0047 - val_mse: 0.0047 - val_mae: 0.0480\n",
            "Epoch 30/30\n",
            "161/161 [==============================] - 1s 8ms/step - loss: 0.0046 - mse: 0.0046 - mae: 0.0478 - val_loss: 0.0047 - val_mse: 0.0047 - val_mae: 0.0485\n"
          ]
        }
      ]
    },
    {
      "cell_type": "markdown",
      "source": [
        "Accuracy on validation set"
      ],
      "metadata": {
        "id": "WUygaONPQlrI"
      }
    },
    {
      "cell_type": "code",
      "source": [
        "predictions = scaler_y.inverse_transform(predictions)\n",
        "predictions\n"
      ],
      "metadata": {
        "colab": {
          "base_uri": "https://localhost:8080/"
        },
        "id": "GYC6jS0wLpfK",
        "outputId": "0f1b0769-3f76-4add-c760-831082078b90"
      },
      "execution_count": 38,
      "outputs": [
        {
          "output_type": "execute_result",
          "data": {
            "text/plain": [
              "array([[27165.096],\n",
              "       [19685.607],\n",
              "       [19969.053],\n",
              "       ...,\n",
              "       [51678.875],\n",
              "       [21766.52 ],\n",
              "       [58689.926]], dtype=float32)"
            ]
          },
          "metadata": {},
          "execution_count": 38
        }
      ]
    },
    {
      "cell_type": "code",
      "source": [
        "mean_absolute_error(y_val, predictions)"
      ],
      "metadata": {
        "colab": {
          "base_uri": "https://localhost:8080/"
        },
        "id": "O7KP2-bVLrZ9",
        "outputId": "09449140-e843-494b-cf2b-156d461a257e"
      },
      "execution_count": 40,
      "outputs": [
        {
          "output_type": "execute_result",
          "data": {
            "text/plain": [
              "33088.44316837087"
            ]
          },
          "metadata": {},
          "execution_count": 40
        }
      ]
    },
    {
      "cell_type": "code",
      "source": [
        "mean_squared_error(y_val, predictions)\n",
        "math.sqrt(mean_squared_error(y_val, predictions))"
      ],
      "metadata": {
        "colab": {
          "base_uri": "https://localhost:8080/"
        },
        "id": "VwZGpxS9LtWy",
        "outputId": "aaa874b3-2127-4de0-e216-a89021b90da9"
      },
      "execution_count": 42,
      "outputs": [
        {
          "output_type": "execute_result",
          "data": {
            "text/plain": [
              "36769.095431450005"
            ]
          },
          "metadata": {},
          "execution_count": 42
        }
      ]
    },
    {
      "cell_type": "code",
      "source": [
        "np.mean(y_val)"
      ],
      "metadata": {
        "colab": {
          "base_uri": "https://localhost:8080/"
        },
        "id": "HwHUajTuLu7G",
        "outputId": "052dbfd3-4f4c-4e87-8a84-83b21e5ee82f"
      },
      "execution_count": 44,
      "outputs": [
        {
          "output_type": "execute_result",
          "data": {
            "text/plain": [
              "94.62536295556666"
            ]
          },
          "metadata": {},
          "execution_count": 44
        }
      ]
    },
    {
      "cell_type": "code",
      "source": [
        "np.mean(predictions)"
      ],
      "metadata": {
        "colab": {
          "base_uri": "https://localhost:8080/"
        },
        "id": "KaZ_alPyLwlH",
        "outputId": "7a7a15e4-1059-4a53-f1f1-377e6cf1762c"
      },
      "execution_count": 45,
      "outputs": [
        {
          "output_type": "execute_result",
          "data": {
            "text/plain": [
              "33179.703"
            ]
          },
          "metadata": {},
          "execution_count": 45
        }
      ]
    },
    {
      "cell_type": "markdown",
      "source": [
        "Neural Network"
      ],
      "metadata": {
        "id": "RFtSn8LAQ8Zt"
      }
    },
    {
      "cell_type": "code",
      "source": [
        "class nn:\n",
        "    def __init__(self,ip,op):\n",
        "        self.ip=ip\n",
        "        self.op=op\n",
        "        print(ip.shape,op.shape)\n",
        "        self.l1_size=100\n",
        "        self.w1=(np.random.rand(self.l1_size,self.ip.shape[1]+1).T)*0.3-0.15\n",
        "        self.w2=(np.random.rand(self.op.shape[1],self.l1_size+1).T)*0.3-0.15\n",
        "        print(self.w1.shape,self.w2.shape)\n",
        "        for i in range(50):\n",
        "            print(i)\n",
        "            self.train()\n",
        "    \n",
        "    def sig(self,x):\n",
        "        return 1/(1+np.exp(-x))\n",
        "    \n",
        "    def train(self):\n",
        "        #===front propogation===#\n",
        "        ip=self.sig(self.ip)\n",
        "        ip=np.append(np.ones((len(ip),1)),ip,axis=1)\n",
        "        l1=self.sig(ip@self.w1)\n",
        "        l1=np.append(np.ones((len(l1),1)),l1,axis=1)\n",
        "        pred=(l1@self.w2)\n",
        "        #===back propogation===#\n",
        "        #error at each layer\n",
        "        d3 = (pred - self.op)\n",
        "        d2 = (d3 @ self.w2.T * l1 * (1-l1))\n",
        "        d2 = d2[:,1:]\n",
        "        #altering weights\n",
        "        self.w2-= (l1.T @ d3)/len(ip)\n",
        "        self.w1-= (ip.T @ d2)/len(ip)\n",
        "        \n",
        "    def predict(self,ip):\n",
        "        ip=np.append(np.ones((len(ip),1)),ip,axis=1)\n",
        "        l1=self.sig(ip@self.w1)\n",
        "        l1=np.append(np.ones((len(l1),1)),l1,axis=1)\n",
        "        pred=self.sig(l1@self.w2)\n",
        "        return pred"
      ],
      "metadata": {
        "id": "wBdBxKFMMb2j"
      },
      "execution_count": 46,
      "outputs": []
    },
    {
      "cell_type": "code",
      "source": [
        "newn=nn(xtrain_scale,ytrain_scale)"
      ],
      "metadata": {
        "colab": {
          "base_uri": "https://localhost:8080/"
        },
        "id": "DItvUUnmMc1I",
        "outputId": "a82ae4ad-0a35-4b2c-c77b-d955decaa2fc"
      },
      "execution_count": 47,
      "outputs": [
        {
          "output_type": "stream",
          "name": "stdout",
          "text": [
            "(30045, 8) (30045, 1)\n",
            "(9, 100) (101, 1)\n",
            "0\n",
            "1\n",
            "2\n",
            "3\n",
            "4\n",
            "5\n",
            "6\n",
            "7\n",
            "8\n",
            "9\n",
            "10\n",
            "11\n",
            "12\n",
            "13\n",
            "14\n",
            "15\n",
            "16\n",
            "17\n",
            "18\n",
            "19\n",
            "20\n",
            "21\n",
            "22\n",
            "23\n",
            "24\n",
            "25\n",
            "26\n",
            "27\n",
            "28\n",
            "29\n",
            "30\n",
            "31\n",
            "32\n",
            "33\n",
            "34\n",
            "35\n",
            "36\n",
            "37\n",
            "38\n",
            "39\n",
            "40\n",
            "41\n",
            "42\n",
            "43\n",
            "44\n",
            "45\n",
            "46\n",
            "47\n",
            "48\n",
            "49\n"
          ]
        }
      ]
    },
    {
      "cell_type": "markdown",
      "source": [
        "Comparison"
      ],
      "metadata": {
        "id": "vesh99NcRO35"
      }
    },
    {
      "cell_type": "code",
      "source": [
        "prediction=newn.predict(xval_scale)"
      ],
      "metadata": {
        "id": "SxmwIcucMyMc"
      },
      "execution_count": 49,
      "outputs": []
    },
    {
      "cell_type": "code",
      "source": [
        "mean_absolute_error(yval_scale, predictions)"
      ],
      "metadata": {
        "colab": {
          "base_uri": "https://localhost:8080/"
        },
        "id": "UHwDY7aVM-AX",
        "outputId": "3c13e57d-5fbe-403a-dc4b-acf6504b3767"
      },
      "execution_count": 56,
      "outputs": [
        {
          "output_type": "execute_result",
          "data": {
            "text/plain": [
              "33182.82099342681"
            ]
          },
          "metadata": {},
          "execution_count": 56
        }
      ]
    },
    {
      "cell_type": "code",
      "source": [
        "mean_absolute_error(yval_scale, prediction)"
      ],
      "metadata": {
        "colab": {
          "base_uri": "https://localhost:8080/"
        },
        "id": "Ad7XosEYNuhU",
        "outputId": "c889c8de-3358-4748-ff43-e218bf527846"
      },
      "execution_count": 57,
      "outputs": [
        {
          "output_type": "execute_result",
          "data": {
            "text/plain": [
              "0.3002139147647217"
            ]
          },
          "metadata": {},
          "execution_count": 57
        }
      ]
    },
    {
      "cell_type": "code",
      "source": [
        "prediction"
      ],
      "metadata": {
        "colab": {
          "base_uri": "https://localhost:8080/"
        },
        "id": "HNfyipzBNwRy",
        "outputId": "3a9f5cc2-58b7-40e7-9052-fdd4a24192f2"
      },
      "execution_count": 59,
      "outputs": [
        {
          "output_type": "execute_result",
          "data": {
            "text/plain": [
              "array([[0.54522151],\n",
              "       [0.54676613],\n",
              "       [0.52167035],\n",
              "       ...,\n",
              "       [0.54700363],\n",
              "       [0.54752377],\n",
              "       [0.54821489]])"
            ]
          },
          "metadata": {},
          "execution_count": 59
        }
      ]
    },
    {
      "cell_type": "code",
      "source": [
        "yval_scale"
      ],
      "metadata": {
        "colab": {
          "base_uri": "https://localhost:8080/"
        },
        "id": "AdB3WmYTN5ax",
        "outputId": "24d708f3-b348-496f-8397-e230c6de2f15"
      },
      "execution_count": 58,
      "outputs": [
        {
          "output_type": "execute_result",
          "data": {
            "text/plain": [
              "array([[0.19402985],\n",
              "       [0.08034826],\n",
              "       [0.12935323],\n",
              "       ...,\n",
              "       [0.44776119],\n",
              "       [0.11940299],\n",
              "       [0.75870647]])"
            ]
          },
          "metadata": {},
          "execution_count": 58
        }
      ]
    },
    {
      "cell_type": "markdown",
      "source": [
        "Prediction rate gradually increases with increase in the number of iterations\n"
      ],
      "metadata": {
        "id": "CS9zaTcSRmS8"
      }
    },
    {
      "cell_type": "markdown",
      "source": [
        "-Lohesh M(21110290)"
      ],
      "metadata": {
        "id": "6MwMn6-oSFct"
      }
    },
    {
      "cell_type": "code",
      "source": [],
      "metadata": {
        "id": "8S3fxeOhSDmB"
      },
      "execution_count": null,
      "outputs": []
    },
    {
      "cell_type": "markdown",
      "source": [
        "-Lohesh M(21110290)"
      ],
      "metadata": {
        "id": "_CH1eLMOSCP4"
      }
    },
    {
      "cell_type": "code",
      "source": [],
      "metadata": {
        "id": "7buSbNAcN92p"
      },
      "execution_count": null,
      "outputs": []
    }
  ]
}